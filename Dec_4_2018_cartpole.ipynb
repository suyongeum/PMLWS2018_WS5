{
  "nbformat": 4,
  "nbformat_minor": 0,
  "metadata": {
    "colab": {
      "name": "Dec_4_2018_cartpole.ipynb",
      "version": "0.3.2",
      "provenance": [],
      "collapsed_sections": []
    },
    "kernelspec": {
      "name": "python3",
      "display_name": "Python 3"
    },
    "accelerator": "GPU"
  },
  "cells": [
    {
      "metadata": {
        "id": "aBIan7Zg_zwf",
        "colab_type": "code",
        "colab": {}
      },
      "cell_type": "code",
      "source": [
        "!apt-get install -y xvfb python-opengl > /dev/null 2>&1\n",
        "!pip install gym pyvirtualdisplay > /dev/null 2>&1"
      ],
      "execution_count": 0,
      "outputs": []
    },
    {
      "metadata": {
        "id": "c1KGXPXHBSgQ",
        "colab_type": "code",
        "colab": {
          "base_uri": "https://localhost:8080/",
          "height": 55
        },
        "outputId": "26abcd15-bbff-404d-e5f1-b0932c585d12"
      },
      "cell_type": "code",
      "source": [
        "from pyvirtualdisplay import Display\n",
        "display = Display(visible=0, size=(300, 200))\n",
        "display.start()"
      ],
      "execution_count": 5,
      "outputs": [
        {
          "output_type": "execute_result",
          "data": {
            "text/plain": [
              "<Display cmd_param=['Xvfb', '-br', '-nolisten', 'tcp', '-screen', '0', '300x200x24', ':1005'] cmd=['Xvfb', '-br', '-nolisten', 'tcp', '-screen', '0', '300x200x24', ':1005'] oserror=None return_code=None stdout=\"None\" stderr=\"None\" timeout_happened=False>"
            ]
          },
          "metadata": {
            "tags": []
          },
          "execution_count": 5
        }
      ]
    },
    {
      "metadata": {
        "id": "Yi6eD5mVB0IK",
        "colab_type": "code",
        "colab": {}
      },
      "cell_type": "code",
      "source": [
        "import gym\n",
        "import numpy as np\n",
        "import matplotlib.pyplot as plt\n",
        "from IPython import display as ipythondisplay"
      ],
      "execution_count": 0,
      "outputs": []
    },
    {
      "metadata": {
        "id": "1bkG84quEomv",
        "colab_type": "code",
        "colab": {}
      },
      "cell_type": "code",
      "source": [
        "# To plot the output results from gym\n",
        "env = gym.make('CartPole-v0')\n",
        "for i_episode in range(5):\n",
        "    observation = env.reset()\n",
        "    for t in range(50):\n",
        "        \n",
        "        screen = env.render(mode='rgb_array')                  \n",
        "        action = env.action_space.sample()\n",
        "        observation, reward, done, info = env.step(action)\n",
        "        \n",
        "        print(t,')', 'observation:', observation, 'reward', reward, 'done', done)\n",
        "        \n",
        "        if done:\n",
        "            print(\"-------------------------------------------------------------  Episode finished after {} timesteps \\n\".format(t+1))\n",
        "            break\n",
        "            \n",
        "env.close()           "
      ],
      "execution_count": 0,
      "outputs": []
    },
    {
      "metadata": {
        "id": "poLrXd2ZDGlh",
        "colab_type": "code",
        "colab": {}
      },
      "cell_type": "code",
      "source": [
        "# To show the animation how the carpole moves\n",
        "env = gym.make('CartPole-v0')\n",
        "for i_episode in range(5):\n",
        "    observation = env.reset()\n",
        "    for t in range(50):\n",
        "        \n",
        "        #Below function as env.render()\n",
        "        ########################################\n",
        "        screen = env.render(mode='rgb_array')\n",
        "        plt.imshow(screen)\n",
        "        ipythondisplay.clear_output(wait=True)\n",
        "        ipythondisplay.display(plt.gcf())\n",
        "        ########################################        \n",
        "                \n",
        "        action = env.action_space.sample()\n",
        "        observation, reward, done, info = env.step(action)\n",
        "        \n",
        "        print(t,')', 'observation:', observation, 'reward', reward, 'done', done)\n",
        "        \n",
        "        if done:\n",
        "            print(\"-------------------------------------------------------------  Episode finished after {} timesteps \\n\".format(t+1))\n",
        "            break\n",
        "            \n",
        "ipythondisplay.clear_output(wait=True)\n",
        "env.close()   "
      ],
      "execution_count": 0,
      "outputs": []
    }
  ]
}